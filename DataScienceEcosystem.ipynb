{
  "metadata": {
    "kernelspec": {
      "name": "python",
      "display_name": "Python (Pyodide)",
      "language": "python"
    },
    "language_info": {
      "codemirror_mode": {
        "name": "python",
        "version": 3
      },
      "file_extension": ".py",
      "mimetype": "text/x-python",
      "name": "python",
      "nbconvert_exporter": "python",
      "pygments_lexer": "ipython3",
      "version": "3.8"
    }
  },
  "nbformat_minor": 4,
  "nbformat": 4,
  "cells": [
    {
      "cell_type": "markdown",
      "source": "# Data Science Tools and Ecosystem",
      "metadata": {}
    },
    {
      "cell_type": "markdown",
      "source": "## In this notebook, Data Science and Ecosystem are summarized.",
      "metadata": {}
    },
    {
      "cell_type": "markdown",
      "source": "#### **Objectives**\n\n- List popular languages used by Data Scientists\n- List popular libraries used by Data Scientists\n- Give examples of arithmetic code in Python",
      "metadata": {}
    },
    {
      "cell_type": "markdown",
      "source": "#### Some of the popular languages that Data Scientists use are:\n\n1. Python\n2. R\n3. Julia",
      "metadata": {}
    },
    {
      "cell_type": "markdown",
      "source": "#### Some of the commonly used libraries used by Data Scientists are:\n\n1. Matplotlib\n2. NumPy\n3. Pandas\n4. Scikit-learn\n5. TensorFlow\n6. SciPy\n7. Keras\n8. Plotly\n9. Seaborn\n10. PyTorch",
      "metadata": {
        "jp-MarkdownHeadingCollapsed": true
      }
    },
    {
      "cell_type": "markdown",
      "source": "| Data Science Tools |\n| ----------- |\n| Jupyter |\n| Git |\n| R Studio |",
      "metadata": {}
    },
    {
      "cell_type": "markdown",
      "source": "### Below are a few examples of evaluating arithmetic expressions in Python\n\n- 2+2\n- 2*2\n- 2*3\n- 4+2*(3*5)",
      "metadata": {}
    },
    {
      "cell_type": "code",
      "source": "# This is a simple arithmetic expression to multiply and then add integers.\n\n(3*4)+5",
      "metadata": {
        "trusted": true
      },
      "outputs": [
        {
          "execution_count": 5,
          "output_type": "execute_result",
          "data": {
            "text/plain": "17"
          },
          "metadata": {}
        }
      ],
      "execution_count": 5
    },
    {
      "cell_type": "code",
      "source": "# This will convert 200 minutes to hours by diving by 60.\n\n200/60",
      "metadata": {
        "trusted": true
      },
      "outputs": [
        {
          "execution_count": 6,
          "output_type": "execute_result",
          "data": {
            "text/plain": "3.3333333333333335"
          },
          "metadata": {}
        }
      ],
      "execution_count": 6
    },
    {
      "cell_type": "markdown",
      "source": "## Author\nBenjamin Havens-Stokes",
      "metadata": {}
    },
    {
      "cell_type": "code",
      "source": "",
      "metadata": {
        "trusted": true
      },
      "outputs": [],
      "execution_count": null
    }
  ]
}